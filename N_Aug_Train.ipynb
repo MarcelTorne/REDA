{
 "cells": [
  {
   "cell_type": "code",
   "execution_count": null,
   "id": "9a7d62a6",
   "metadata": {},
   "outputs": [],
   "source": [
    "# n_aug = 1,2,4,8,16,22"
   ]
  }
 ],
 "metadata": {
  "kernelspec": {
   "display_name": "AM205",
   "language": "python",
   "name": "am205"
  },
  "language_info": {
   "codemirror_mode": {
    "name": "ipython",
    "version": 3
   },
   "file_extension": ".py",
   "mimetype": "text/x-python",
   "name": "python",
   "nbconvert_exporter": "python",
   "pygments_lexer": "ipython3",
   "version": "3.9.7"
  }
 },
 "nbformat": 4,
 "nbformat_minor": 5
}
