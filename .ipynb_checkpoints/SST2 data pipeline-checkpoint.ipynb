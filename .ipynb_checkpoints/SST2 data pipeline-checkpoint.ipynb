{
 "cells": [
  {
   "cell_type": "code",
   "execution_count": 8,
   "id": "c134c50f",
   "metadata": {},
   "outputs": [],
   "source": [
    "file = open(\"stanfordSentimentTreebank/sentiment_labels.txt\")\n",
    "\n",
    "id_to_label = {}\n",
    "\n",
    "for line in file.readlines()[1:]:\n",
    "    id, label = line.split(\"|\")\n",
    "    id = int(id)\n",
    "    label = float(label)\n",
    "    if label <=0.5:\n",
    "        label = 0\n",
    "    else:\n",
    "        label = 1\n",
    "    id_to_label[id] = label\n",
    "    \n",
    "    "
   ]
  },
  {
   "cell_type": "code",
   "execution_count": 13,
   "id": "616fa117",
   "metadata": {},
   "outputs": [],
   "source": [
    "file = open(\"stanfordSentimentTreebank/datasetSplit.txt\")\n",
    "\n",
    "training_set_idx = []\n",
    "\n",
    "for line in file.readlines()[1:]:\n",
    "    id, set_label = line.split(\",\")\n",
    "    id = int(id)\n",
    "    set_label = int(set_label)\n",
    "    \n",
    "    if set_label == 1:\n",
    "        training_set_idx.append(id)\n",
    "        "
   ]
  },
  {
   "cell_type": "code",
   "execution_count": 17,
   "id": "7828a0f0",
   "metadata": {},
   "outputs": [],
   "source": [
    "file = open(\"stanfordSentimentTreebank/datasetSentences.txt\")\n",
    "\n",
    "id_to_sentence = {}\n",
    "\n",
    "for line in file.readlines()[1:]:\n",
    "    id, sentence = line.split(\"\\t\")\n",
    "    id = int(id)\n",
    "    \n",
    "    id_to_sentence[id] = sentence\n",
    "        "
   ]
  },
  {
   "cell_type": "code",
   "execution_count": 18,
   "id": "38b18df3",
   "metadata": {},
   "outputs": [],
   "source": [
    "file = open(\"sst/train_orig.txt\", \"w\")\n",
    "\n",
    "for id in training_set_idx:\n",
    "    file.write(\"{}\\t{}\".format(id_to_label[id], id_to_sentence[id]))\n",
    "    \n",
    "file.close()\n",
    "    "
   ]
  }
 ],
 "metadata": {
  "kernelspec": {
   "display_name": "Python 3",
   "language": "python",
   "name": "python3"
  },
  "language_info": {
   "codemirror_mode": {
    "name": "ipython",
    "version": 3
   },
   "file_extension": ".py",
   "mimetype": "text/x-python",
   "name": "python",
   "nbconvert_exporter": "python",
   "pygments_lexer": "ipython3",
   "version": "3.7.0"
  }
 },
 "nbformat": 4,
 "nbformat_minor": 5
}
