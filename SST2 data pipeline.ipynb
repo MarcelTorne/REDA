{
 "cells": [
  {
   "cell_type": "code",
   "execution_count": null,
   "id": "5b1328b8",
   "metadata": {},
   "outputs": [],
   "source": [
    "## TODO: DOON'T USE THIS, USE SST1_CLEAN"
   ]
  },
  {
   "cell_type": "code",
   "execution_count": 1,
   "id": "c134c50f",
   "metadata": {},
   "outputs": [],
   "source": [
    "file = open(\"stanfordSentimentTreebank/sentiment_labels.txt\")\n",
    "\n",
    "id_to_label = {}\n",
    "\n",
    "for line in file.readlines()[1:]:\n",
    "    id, label = line.split(\"|\")\n",
    "    id = int(id)\n",
    "    label = float(label)\n",
    "    if label <=0.5:\n",
    "        label = 0\n",
    "    else:\n",
    "        label = 1\n",
    "    id_to_label[id] = label\n",
    "    \n",
    "    "
   ]
  },
  {
   "cell_type": "code",
   "execution_count": 2,
   "id": "a752d16e",
   "metadata": {},
   "outputs": [],
   "source": [
    "file = open(\"stanfordSentimentTreebank/datasetSplit.txt\")\n",
    "\n",
    "training_set_idx = []\n",
    "test_set_idx = []\n",
    "dev_set_idx = []\n",
    "\n",
    "for line in file.readlines()[1:]:\n",
    "    id, set_label = line.split(\",\")\n",
    "    id = int(id)\n",
    "    set_label = int(set_label)\n",
    "    \n",
    "    if set_label == 1:\n",
    "        training_set_idx.append(id)\n",
    "    elif set_label == 2:\n",
    "        test_set_idx.append(id)\n",
    "    else:\n",
    "        dev_set_idx.append(id)\n",
    "        "
   ]
  },
  {
   "cell_type": "code",
   "execution_count": 3,
   "id": "716739c5",
   "metadata": {},
   "outputs": [],
   "source": [
    "file = open(\"stanfordSentimentTreebank/datasetSentences.txt\")\n",
    "\n",
    "id_to_sentence = {}\n",
    "\n",
    "for line in file.readlines()[1:]:\n",
    "    id, sentence = line.split(\"\\t\")\n",
    "    id = int(id)\n",
    "    \n",
    "    id_to_sentence[id] = sentence\n",
    "        "
   ]
  },
  {
   "cell_type": "code",
   "execution_count": 4,
   "id": "d1504f17",
   "metadata": {},
   "outputs": [],
   "source": [
    "file = open(\"sst/train_orig.txt\", \"w\")\n",
    "\n",
    "for id in training_set_idx:\n",
    "    file.write(\"{}\\t{}\".format(id_to_label[id], id_to_sentence[id]))\n",
    "    \n",
    "file.close()\n",
    "    "
   ]
  },
  {
   "cell_type": "code",
   "execution_count": 5,
   "id": "e9a74975",
   "metadata": {},
   "outputs": [],
   "source": [
    "file = open(\"sst/test.txt\", \"w\")\n",
    "\n",
    "for id in test_set_idx:\n",
    "    file.write(\"{}\\t{}\".format(id_to_label[id], id_to_sentence[id]))\n",
    "    \n",
    "file.close()\n",
    "    "
   ]
  },
  {
   "cell_type": "code",
   "execution_count": 6,
   "id": "47aa8ae7",
   "metadata": {},
   "outputs": [],
   "source": [
    "file = open(\"sst/dev.txt\", \"w\")\n",
    "\n",
    "for id in dev_set_idx:\n",
    "    file.write(\"{}\\t{}\".format(id_to_label[id], id_to_sentence[id].lower()))\n",
    "    \n",
    "file.close()\n",
    "    "
   ]
  }
 ],
 "metadata": {
  "kernelspec": {
   "display_name": "Python 3",
   "language": "python",
   "name": "python3"
  },
  "language_info": {
   "codemirror_mode": {
    "name": "ipython",
    "version": 3
   },
   "file_extension": ".py",
   "mimetype": "text/x-python",
   "name": "python",
   "nbconvert_exporter": "python",
   "pygments_lexer": "ipython3",
   "version": "3.7.0"
  }
 },
 "nbformat": 4,
 "nbformat_minor": 5
}
