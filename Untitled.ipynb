{
 "cells": [
  {
   "cell_type": "code",
   "execution_count": 14,
   "id": "30194876",
   "metadata": {},
   "outputs": [],
   "source": [
    "from collections import defaultdict\n",
    "\n",
    "def minStickers( stickers, target):\n",
    "        #return self.minStickersHelper(stickers, target, [])\n",
    "        \n",
    "        dict_letters = defaultdict(lambda: 0)\n",
    "        for letter in target:\n",
    "            dict_letters[letter] = dict_letters[letter]+1\n",
    "        \n",
    "        added_quant = 0\n",
    "        nb_stickers = 0\n",
    "        while len(target) >  added_quant:\n",
    "            # take max spanning word\n",
    "            max_quant = 0\n",
    "            new_dict = {}\n",
    "            sel_sticker = \"\"\n",
    "            \n",
    "            for sticker in stickers:\n",
    "                qty = 0\n",
    "                dict_letters_cpy = dict_letters.copy()\n",
    "              \n",
    "                for c in sticker:\n",
    "                \n",
    "                    if dict_letters_cpy[c] > 0:\n",
    "                        qty += 1\n",
    "                        dict_letters_cpy[c]-=1\n",
    "                \n",
    "                if qty > max_quant:\n",
    "                    new_dict = dict_letters_cpy\n",
    "                    max_quant = qty\n",
    "                    sel_sticker = sticker\n",
    "            \n",
    "            if max_quant == 0:\n",
    "                return -1\n",
    "            dict_letters = new_dict\n",
    "            nb_stickers += 1\n",
    "            added_quant += max_quant\n",
    "            print(added_quant)\n",
    "            print(sel_sticker)\n",
    "          \n",
    "        return nb_stickers\n",
    "            "
   ]
  },
  {
   "cell_type": "code",
   "execution_count": 15,
   "id": "d0124607",
   "metadata": {},
   "outputs": [
    {
     "name": "stdout",
     "output_type": "stream",
     "text": [
      "6\n",
      "operate\n",
      "8\n",
      "control\n",
      "10\n",
      "miss\n",
      "11\n",
      "wonder\n"
     ]
    },
    {
     "data": {
      "text/plain": [
       "4"
      ]
     },
     "execution_count": 15,
     "metadata": {},
     "output_type": "execute_result"
    }
   ],
   "source": [
    "stickers = [\"control\",\"heart\",\"interest\",\"stream\",\"sentence\",\"soil\",\"wonder\",\"them\",\"month\",\"slip\",\"table\",\"miss\",\"boat\",\"speak\",\"figure\",\"no\",\"perhaps\",\"twenty\",\"throw\",\"rich\",\"capital\",\"save\",\"method\",\"store\",\"meant\",\"life\",\"oil\",\"string\",\"song\",\"food\",\"am\",\"who\",\"fat\",\"if\",\"put\",\"path\",\"come\",\"grow\",\"box\",\"great\",\"word\",\"object\",\"stead\",\"common\",\"fresh\",\"the\",\"operate\",\"where\",\"road\",\"mean\"]\n",
    "target = \"stoodcrease\"\n",
    "\n",
    "minStickers(stickers, target)"
   ]
  },
  {
   "cell_type": "code",
   "execution_count": null,
   "id": "fe9c89c0",
   "metadata": {},
   "outputs": [],
   "source": []
  }
 ],
 "metadata": {
  "kernelspec": {
   "display_name": "Python 3",
   "language": "python",
   "name": "python3"
  },
  "language_info": {
   "codemirror_mode": {
    "name": "ipython",
    "version": 3
   },
   "file_extension": ".py",
   "mimetype": "text/x-python",
   "name": "python",
   "nbconvert_exporter": "python",
   "pygments_lexer": "ipython3",
   "version": "3.7.0"
  }
 },
 "nbformat": 4,
 "nbformat_minor": 5
}
