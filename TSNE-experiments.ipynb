{
 "cells": [
  {
   "cell_type": "code",
   "execution_count": 1,
   "id": "d7a9d14d",
   "metadata": {},
   "outputs": [],
   "source": [
    "from methods import *\n",
    "import os, shutil"
   ]
  },
  {
   "cell_type": "code",
   "execution_count": 4,
   "id": "00bced77",
   "metadata": {},
   "outputs": [],
   "source": [
    "word2vec_len = 300\n",
    "\n",
    "word2vec_pickle = dataset_folder + '/word2vec.p'"
   ]
  },
  {
   "cell_type": "code",
   "execution_count": 3,
   "id": "a3e93342",
   "metadata": {
    "scrolled": true
   },
   "outputs": [
    {
     "name": "stdout",
     "output_type": "stream",
     "text": [
      "finished weda for tsne/train_orig.txt to tsne/train_weda.txt\n"
     ]
    }
   ],
   "source": [
    "output_file_weda = \"tsne\" + '/train_weda.txt'\n",
    "train_orig = \"tsne/train_orig.txt\"\n",
    "gen_standard_aug_weda(train_orig, output_file_weda, num_aug=9)"
   ]
  },
  {
   "cell_type": "code",
   "execution_count": 10,
   "id": "b51c61f1",
   "metadata": {},
   "outputs": [
    {
     "name": "stdout",
     "output_type": "stream",
     "text": [
      "['tsne/test.txt', 'tsne/train_orig.txt', 'tsne/train_weda.txt']\n",
      "27936 unique words found\n",
      "20835 matches between unique words and word2vec dictionary\n",
      "dictionaries outputted to tsne/word2vec.p\n"
     ]
    }
   ],
   "source": [
    "huge_word2vec = 'word2vec/glove.840B.300d.txt'\n",
    "\n",
    "gen_vocab_dicts(dataset_folder, word2vec_pickle, huge_word2vec)"
   ]
  },
  {
   "cell_type": "code",
   "execution_count": 5,
   "id": "ca925c48",
   "metadata": {},
   "outputs": [],
   "source": [
    "def run_cnn_tsne(train_file, test_file, num_classes, input_size, percent_dataset):\n",
    "    word2vec_pickle = \"tsne\" + '/word2vec.p'\n",
    "    word2vec = load_pickle(word2vec_pickle)\n",
    "        \n",
    "    #initialize model\n",
    "    model = build_cnn(input_size, word2vec_len, num_classes)\n",
    "\n",
    "    #load data\n",
    "    train_x, train_y = get_x_y(train_file, num_classes, word2vec_len, input_size, word2vec, percent_dataset)\n",
    "    test_x, test_y = get_x_y(test_file, num_classes, word2vec_len, input_size, word2vec, 1)\n",
    "\n",
    "    #implement early stopping\n",
    "    callbacks = [EarlyStopping(monitor='val_loss', patience=3)]\n",
    "\n",
    "    #train model\n",
    "    model.fit(\ttrain_x, \n",
    "                train_y, \n",
    "                epochs=100, \n",
    "                callbacks=callbacks,\n",
    "                validation_split=0.1, \n",
    "                batch_size=1024, \n",
    "                shuffle=True, \n",
    "                verbose=1)\n",
    "    #model.save('checkpoints/lol')\n",
    "    #model = load_model('checkpoints/lol')\n",
    "\n",
    "    #evaluate model\n",
    "    y_pred = model.predict(test_x)\n",
    "    test_y_cat = one_hot_to_categorical(test_y)\n",
    "    y_pred_cat = one_hot_to_categorical(y_pred)\n",
    "    acc = accuracy_score(test_y_cat, y_pred_cat)\n",
    "\n",
    "    #clean memory???\n",
    "    train_x, train_y = None, None\n",
    "    gc.collect()\n",
    "\n",
    "    #return the accuracy\n",
    "    #print(\"data with shape:\", train_x.shape, train_y.shape, 'train=', train_file, 'test=', test_file, 'with fraction', percent_dataset, 'had acc', acc)\n",
    "    return acc, model\n",
    "\n"
   ]
  },
  {
   "cell_type": "code",
   "execution_count": 6,
   "id": "b53a8db0",
   "metadata": {},
   "outputs": [
    {
     "name": "stdout",
     "output_type": "stream",
     "text": [
      "Epoch 1/100\n",
      "7/7 [==============================] - 2s 198ms/step - loss: 0.6753 - accuracy: 0.5562 - val_loss: 0.6217 - val_accuracy: 0.7135\n",
      "Epoch 2/100\n",
      "7/7 [==============================] - 1s 160ms/step - loss: 0.5932 - accuracy: 0.7517 - val_loss: 0.5452 - val_accuracy: 0.7635\n",
      "Epoch 3/100\n",
      "7/7 [==============================] - 1s 160ms/step - loss: 0.5080 - accuracy: 0.7941 - val_loss: 0.4816 - val_accuracy: 0.7838\n",
      "Epoch 4/100\n",
      "7/7 [==============================] - 1s 168ms/step - loss: 0.4342 - accuracy: 0.8136 - val_loss: 0.4436 - val_accuracy: 0.7932\n",
      "Epoch 5/100\n",
      "7/7 [==============================] - 1s 187ms/step - loss: 0.3819 - accuracy: 0.8305 - val_loss: 0.4316 - val_accuracy: 0.7878\n",
      "Epoch 6/100\n",
      "7/7 [==============================] - 1s 172ms/step - loss: 0.3531 - accuracy: 0.8463 - val_loss: 0.4293 - val_accuracy: 0.7959\n",
      "Epoch 7/100\n",
      "7/7 [==============================] - 1s 178ms/step - loss: 0.3156 - accuracy: 0.8698 - val_loss: 0.4213 - val_accuracy: 0.7986\n",
      "Epoch 8/100\n",
      "7/7 [==============================] - 1s 177ms/step - loss: 0.2791 - accuracy: 0.8970 - val_loss: 0.4166 - val_accuracy: 0.7973\n",
      "Epoch 9/100\n",
      "7/7 [==============================] - 1s 200ms/step - loss: 0.2551 - accuracy: 0.9102 - val_loss: 0.4152 - val_accuracy: 0.7986\n",
      "Epoch 10/100\n",
      "7/7 [==============================] - 1s 188ms/step - loss: 0.2170 - accuracy: 0.9333 - val_loss: 0.4153 - val_accuracy: 0.8054\n",
      "Epoch 11/100\n",
      "7/7 [==============================] - 1s 176ms/step - loss: 0.1899 - accuracy: 0.9463 - val_loss: 0.4185 - val_accuracy: 0.8054\n",
      "Epoch 12/100\n",
      "7/7 [==============================] - 1s 197ms/step - loss: 0.1580 - accuracy: 0.9632 - val_loss: 0.4250 - val_accuracy: 0.8027\n",
      "cnn 0.8399085191538022\n"
     ]
    }
   ],
   "source": [
    "#for storing last layer representations\n",
    "last_layer_cnn_no_aug = []\n",
    "last_layer_cnn_aug = []\n",
    "\n",
    "\n",
    "#initialize all the variables\n",
    "dataset_folder = \"tsne\"\n",
    "num_classes = 2\n",
    "input_size = 50\n",
    "word2vec_pickle = dataset_folder + '/word2vec.p'\n",
    "word2vec = load_pickle(word2vec_pickle)\n",
    "\n",
    "train_path = 'tsne/train_orig.txt'\n",
    "test_path = 'tsne/test.txt'\n",
    "acc, model = run_cnn_tsne(train_path, test_path, num_classes, input_size, percent_dataset=1)\n",
    "print(\"cnn\", acc)   \n",
    "model.pop()"
   ]
  },
  {
   "cell_type": "code",
   "execution_count": 8,
   "id": "0f69078f",
   "metadata": {},
   "outputs": [],
   "source": [
    "#load data\n",
    "output_file_weda = \"tsne/train_weda.txt\"\n",
    "test_orig = \"tsne/test.txt\"\n",
    "orig_x, orig_y = get_x_y(test_orig, num_classes, word2vec_len, input_size, word2vec, 1)\n",
    "aug_x, aug_y = get_x_y(output_file_weda, num_classes, word2vec_len, input_size, word2vec, 1)\n",
    "\n",
    "\n",
    "output_orig_x = model(orig_x)\n",
    "output_aug_x = model(aug_x)\n"
   ]
  },
  {
   "cell_type": "code",
   "execution_count": 9,
   "id": "6414b6de",
   "metadata": {},
   "outputs": [
    {
     "name": "stdout",
     "output_type": "stream",
     "text": [
      "(1749, 20)\n"
     ]
    }
   ],
   "source": [
    "print(output_orig_x.shape)"
   ]
  },
  {
   "cell_type": "code",
   "execution_count": 10,
   "id": "49931371",
   "metadata": {},
   "outputs": [],
   "source": [
    "output_orig_x = np.array(output_orig_x)"
   ]
  },
  {
   "cell_type": "markdown",
   "id": "566e2424",
   "metadata": {},
   "source": [
    "## Test alone"
   ]
  },
  {
   "cell_type": "code",
   "execution_count": 12,
   "id": "b0e687a9",
   "metadata": {},
   "outputs": [
    {
     "name": "stdout",
     "output_type": "stream",
     "text": [
      "(1749, 20)\n",
      "(1749, 2)\n",
      "[   0    1    2 ... 1746 1747 1748]\n",
      "[ 0  1  4  5  7  8 10 12 13 14 17 18 21 23 24 27 28 29 30 32 33 34 35 36\n",
      " 37 38 41 42 43 46  2  3  6  9 11 15 16 19 20 22 25 26 31 39 40 44 45 48\n",
      " 49 50 51 52 55 60 61 63 66 67 70 75]\n",
      "(60, 20)\n"
     ]
    }
   ],
   "source": [
    "# do tsne on output orig_x + plot\n",
    "print(output_orig_x.shape)\n",
    "from sklearn.manifold import TSNE\n",
    "\n",
    "nb_points = 30\n",
    "print(orig_y.shape)\n",
    "pos_idx = np.where(orig_y[:,0] == 1)[0][:nb_points]\n",
    "neg_idx = np.where(orig_y[:,0] == 0)[0][:nb_points]\n",
    "print(np.where(orig_y == 1)[0])\n",
    "idx_reduced = np.concatenate((pos_idx, neg_idx))\n",
    "print(idx_reduced)\n",
    "output_orig_x_reduced = []\n",
    "for idx in idx_reduced:\n",
    "    output_orig_x_reduced.append(output_orig_x[idx])\n",
    "    \n",
    "output_orig_x_reduced = np.array(output_orig_x_reduced)\n",
    "\n",
    "print(output_orig_x_reduced.shape)\n",
    "\n",
    "tsne = TSNE(n_components=2, init='random')\n",
    "orig_tsne =  tsne.fit_transform(output_orig_x_reduced)\n",
    "\n"
   ]
  },
  {
   "cell_type": "code",
   "execution_count": 13,
   "id": "48122ce7",
   "metadata": {},
   "outputs": [
    {
     "name": "stdout",
     "output_type": "stream",
     "text": [
      "(60, 2)\n"
     ]
    },
    {
     "data": {
      "image/png": "[encoded data removed]",
      "text/plain": [
       "<Figure size 432x288 with 1 Axes>"
      ]
     },
     "metadata": {
      "needs_background": "light"
     },
     "output_type": "display_data"
    }
   ],
   "source": [
    "import matplotlib.pyplot as plt\n",
    "print(orig_tsne.shape)\n",
    "\n",
    "\n",
    "plt.scatter(orig_tsne[:nb_points,0], orig_tsne[:nb_points,1])\n",
    "plt.scatter(orig_tsne[nb_points:,0], orig_tsne[nb_points:,1])\n",
    "plt.show()\n",
    "# TODO: properly plot this with colours, smaller subset of the dataset and then plot also the augmented data"
   ]
  },
  {
   "cell_type": "markdown",
   "id": "798041a3",
   "metadata": {},
   "source": [
    "## Aug alone"
   ]
  },
  {
   "cell_type": "code",
   "execution_count": 15,
   "id": "b5a68dfa",
   "metadata": {},
   "outputs": [
    {
     "name": "stdout",
     "output_type": "stream",
     "text": [
      "(73930, 20)\n",
      "(73930, 2)\n",
      "[    0     1     2 ... 73927 73928 73929]\n",
      "[  1   6   7  11  16  22  24  28  29  30  31  37  38  39  43  44  48  49\n",
      "  51  52  53  57  59  60  61  62  64  67  68  69  70  74  77  89  90  91\n",
      "  93  95  98  99 100 102 104 105 107 108 110 111 113 115 117 120 125 128\n",
      " 133 135 141 144 145 146 147 149 150 152 156 162 163 165 166 167 170 172\n",
      " 173 177 178 180 182 183 186 190 191 192 193 196 197 207 208 209 212 213\n",
      " 215 216 217 221 224 225 227 228 231 232 236 238 239 242 243 244 246 249\n",
      " 251 254 256 257 258 259 260 263 264 265 266 268 269 271 272 273 274 277\n",
      " 278 279 282 284 291 295 298 301 302 303 304 305 306 307 309 311 314 315\n",
      " 316 318 320 321 322 323 325 327 328 329 330 332 334 339 343 344 345 348\n",
      " 349 352 359 363 365 367 369 370 371 374 378 381 384 389 391 394 395 396\n",
      " 403 404 405 409 410 411 413 414 415 418 419 420 422 425 426 427 428 429\n",
      " 430 432 433 434 435 437 438 441 442 443 445 446 447 449 451 452 453 455\n",
      " 458 461 463 464 465 467 468 470 472 473 475 476 478 479 482 485 487 489\n",
      " 491 492 493 494 498 500 503 506 507 510 512 513 514 515 516 519 523 526\n",
      " 529 531 533 534 536 537 539 540 541 543 545 546 548 549 551 552 554 555\n",
      "   0   2   3   4   5   8   9  10  12  13  14  15  17  18  19  20  21  23\n",
      "  25  26  27  32  33  34  35  36  40  41  42  45  46  47  50  54  55  56\n",
      "  58  63  65  66  71  72  73  75  76  78  79  80  81  82  83  84  85  86\n",
      "  87  88  92  94  96  97 101 103 106 109 112 114 116 118 119 121 122 123\n",
      " 124 126 127 129 130 131 132 134 136 137 138 139 140 142 143 148 151 153\n",
      " 154 155 157 158 159 160 161 164 168 169 171 174 175 176 179 181 184 185\n",
      " 187 188 189 194 195 198 199 200 201 202 203 204 205 206 210 211 214 218\n",
      " 219 220 222 223 226 229 230 233 234 235 237 240 241 245 247 248 250 252\n",
      " 253 255 261 262 267 270 275 276 280 281 283 285 286 287 288 289 290 292\n",
      " 293 294 296 297 299 300 308 310 312 313 317 319 324 326 331 333 335 336\n",
      " 337 338 340 341 342 346 347 350 351 353 354 355 356 357 358 360 361 362\n",
      " 364 366 368 372 373 375 376 377 379 380 382 383 385 386 387 388 390 392\n",
      " 393 397 398 399 400 401 402 406 407 408 412 416 417 421 423 424 431 436\n",
      " 439 440 444 448 450 454 456 457 459 460 462 466 469 471 474 477 480 481\n",
      " 483 484 486 488 490 495 496 497 499 501 502 504 505 508 509 511 517 518]\n",
      "(540, 20)\n"
     ]
    }
   ],
   "source": [
    "# do tsne on output orig_x + plot\n",
    "print(output_aug_x.shape)\n",
    "from sklearn.manifold import TSNE\n",
    "n_aug = 9\n",
    "nb_points = 30\n",
    "print(aug_y.shape)\n",
    "pos_idx = np.where(aug_y[:,0] == 1)[0][:nb_points*n_aug]\n",
    "neg_idx = np.where(aug_y[:,0] == 0)[0][:nb_points*n_aug]\n",
    "print(np.where(aug_y == 1)[0])\n",
    "idx_reduced = np.concatenate((pos_idx, neg_idx))\n",
    "print(idx_reduced)\n",
    "output_aug_x_reduced = []\n",
    "for idx in idx_reduced:\n",
    "    output_aug_x_reduced.append(output_aug_x[idx])\n",
    "    \n",
    "output_aug_x_reduced = np.array(output_aug_x_reduced)\n",
    "\n",
    "print(output_aug_x_reduced.shape)\n",
    "\n",
    "tsne = TSNE(n_components=2, init='random')\n",
    "aug_tsne =  tsne.fit_transform(output_aug_x_reduced)\n",
    "\n",
    "\n"
   ]
  },
  {
   "cell_type": "code",
   "execution_count": 18,
   "id": "f41160e8",
   "metadata": {
    "scrolled": true
   },
   "outputs": [
    {
     "data": {
      "image/png": "[encoded data removed]",
      "text/plain": [
       "<Figure size 432x288 with 1 Axes>"
      ]
     },
     "metadata": {
      "needs_background": "light"
     },
     "output_type": "display_data"
    }
   ],
   "source": [
    "plt.scatter(aug_tsne[:nb_points*n_aug,0], aug_tsne[:nb_points*n_aug,1])\n",
    "plt.scatter(aug_tsne[nb_points*n_aug:,0], aug_tsne[nb_points*n_aug:,1])\n",
    "plt.show()"
   ]
  },
  {
   "cell_type": "markdown",
   "id": "ab8e9cc1",
   "metadata": {},
   "source": [
    "## Aug and Test"
   ]
  },
  {
   "cell_type": "code",
   "execution_count": 21,
   "id": "6098e5c5",
   "metadata": {},
   "outputs": [
    {
     "name": "stdout",
     "output_type": "stream",
     "text": [
      "(73930, 20)\n",
      "(73930, 2)\n",
      "[    0     1     2 ... 73927 73928 73929]\n",
      "[  1   6   7  11  16  22  24  28  29  30  31  37  38  39  43  44  48  49\n",
      "  51  52  53  57  59  60  61  62  64  67  68  69  70  74  77  89  90  91\n",
      "  93  95  98  99 100 102 104 105 107 108 110 111 113 115 117 120 125 128\n",
      " 133 135 141 144 145 146 147 149 150 152 156 162 163 165 166 167 170 172\n",
      " 173 177 178 180 182 183 186 190 191 192 193 196 197 207 208 209 212 213\n",
      " 215 216 217 221 224 225 227 228 231 232 236 238 239 242 243 244 246 249\n",
      " 251 254 256 257 258 259 260 263 264 265 266 268 269 271 272 273 274 277\n",
      " 278 279 282 284 291 295 298 301 302 303 304 305 306 307 309 311 314 315\n",
      " 316 318 320 321 322 323 325 327 328 329 330 332 334 339 343 344 345 348\n",
      " 349 352 359 363 365 367 369 370 371 374 378 381 384 389 391 394 395 396\n",
      " 403 404 405 409 410 411 413 414 415 418 419 420 422 425 426 427 428 429\n",
      " 430 432 433 434 435 437 438 441 442 443 445 446 447 449 451 452 453 455\n",
      " 458 461 463 464 465 467 468 470 472 473 475 476 478 479 482 485 487 489\n",
      " 491 492 493 494 498 500 503 506 507 510 512 513 514 515 516 519 523 526\n",
      " 529 531 533 534 536 537 539 540 541 543 545 546 548 549 551 552 554 555\n",
      "   0   2   3   4   5   8   9  10  12  13  14  15  17  18  19  20  21  23\n",
      "  25  26  27  32  33  34  35  36  40  41  42  45  46  47  50  54  55  56\n",
      "  58  63  65  66  71  72  73  75  76  78  79  80  81  82  83  84  85  86\n",
      "  87  88  92  94  96  97 101 103 106 109 112 114 116 118 119 121 122 123\n",
      " 124 126 127 129 130 131 132 134 136 137 138 139 140 142 143 148 151 153\n",
      " 154 155 157 158 159 160 161 164 168 169 171 174 175 176 179 181 184 185\n",
      " 187 188 189 194 195 198 199 200 201 202 203 204 205 206 210 211 214 218\n",
      " 219 220 222 223 226 229 230 233 234 235 237 240 241 245 247 248 250 252\n",
      " 253 255 261 262 267 270 275 276 280 281 283 285 286 287 288 289 290 292\n",
      " 293 294 296 297 299 300 308 310 312 313 317 319 324 326 331 333 335 336\n",
      " 337 338 340 341 342 346 347 350 351 353 354 355 356 357 358 360 361 362\n",
      " 364 366 368 372 373 375 376 377 379 380 382 383 385 386 387 388 390 392\n",
      " 393 397 398 399 400 401 402 406 407 408 412 416 417 421 423 424 431 436\n",
      " 439 440 444 448 450 454 456 457 459 460 462 466 469 471 474 477 480 481\n",
      " 483 484 486 488 490 495 496 497 499 501 502 504 505 508 509 511 517 518]\n",
      "(540, 20)\n",
      "[   0    1    2 ... 1746 1747 1748]\n",
      "[ 0  1  4  5  7  8 10 12 13 14 17 18 21 23 24 27 28 29 30 32 33 34 35 36\n",
      " 37 38 41 42 43 46  2  3  6  9 11 15 16 19 20 22 25 26 31 39 40 44 45 48\n",
      " 49 50 51 52 55 60 61 63 66 67 70 75]\n",
      "(60, 20)\n",
      "(600, 20)\n"
     ]
    }
   ],
   "source": [
    "# do tsne on output orig_x + plot\n",
    "print(output_aug_x.shape)\n",
    "from sklearn.manifold import TSNE\n",
    "\n",
    "n_aug = 9\n",
    "nb_points = 30\n",
    "print(aug_y.shape)\n",
    "pos_idx = np.where(aug_y[:,0] == 1)[0][:nb_points*n_aug]\n",
    "neg_idx = np.where(aug_y[:,0] == 0)[0][:nb_points*n_aug]\n",
    "print(np.where(aug_y == 1)[0])\n",
    "idx_reduced = np.concatenate((pos_idx, neg_idx))\n",
    "print(idx_reduced)\n",
    "output_aug_x_reduced = []\n",
    "for idx in idx_reduced:\n",
    "    output_aug_x_reduced.append(output_aug_x[idx])\n",
    "    \n",
    "output_aug_x_reduced = np.array(output_aug_x_reduced)\n",
    "\n",
    "print(output_aug_x_reduced.shape)\n",
    "\n",
    "\n",
    "pos_idx = np.where(orig_y[:,0] == 1)[0][:nb_points]\n",
    "neg_idx = np.where(orig_y[:,0] == 0)[0][:nb_points]\n",
    "print(np.where(orig_y == 1)[0])\n",
    "idx_reduced = np.concatenate((pos_idx, neg_idx))\n",
    "print(idx_reduced)\n",
    "output_orig_x_reduced = []\n",
    "for idx in idx_reduced:\n",
    "    output_orig_x_reduced.append(output_orig_x[idx])\n",
    "    \n",
    "output_orig_x_reduced = np.array(output_orig_x_reduced)\n",
    "\n",
    "print(output_orig_x_reduced.shape)\n",
    "\n",
    "output_combined_x_reduced = np.concatenate((output_orig_x_reduced, output_aug_x_reduced))\n",
    "print(output_combined_x_reduced.shape)\n",
    "\n",
    "\n",
    "tsne = TSNE(n_components=2, init='random')\n",
    "combined_tsne =  tsne.fit_transform(output_combined_x_reduced)\n",
    "\n",
    "\n",
    "\n"
   ]
  },
  {
   "cell_type": "code",
   "execution_count": 24,
   "id": "37fca9cb",
   "metadata": {},
   "outputs": [
    {
     "data": {
      "image/png": "[encoded data removed]",
      "text/plain": [
       "<Figure size 432x288 with 1 Axes>"
      ]
     },
     "metadata": {
      "needs_background": "light"
     },
     "output_type": "display_data"
    }
   ],
   "source": [
    "plt.title(\"TSNE\")\n",
    "plt.scatter(combined_tsne[:nb_points,0], combined_tsne[:nb_points,1])\n",
    "plt.scatter(combined_tsne[nb_points:nb_points*2,0], combined_tsne[nb_points:nb_points*2,1])\n",
    "plt.scatter(combined_tsne[nb_points*2:nb_points*(n_aug+2),0], combined_tsne[nb_points*2:nb_points*(n_aug+2),1])\n",
    "plt.scatter(combined_tsne[nb_points*(n_aug+2):,0], combined_tsne[nb_points*(n_aug+2):,1])\n",
    "plt.show()"
   ]
  },
  {
   "cell_type": "code",
   "execution_count": null,
   "id": "3b76c7b7",
   "metadata": {},
   "outputs": [],
   "source": []
  }
 ],
 "metadata": {
  "kernelspec": {
   "display_name": "Python 3",
   "language": "python",
   "name": "python3"
  },
  "language_info": {
   "codemirror_mode": {
    "name": "ipython",
    "version": 3
   },
   "file_extension": ".py",
   "mimetype": "text/x-python",
   "name": "python",
   "nbconvert_exporter": "python",
   "pygments_lexer": "ipython3",
   "version": "3.7.0"
  }
 },
 "nbformat": 4,
 "nbformat_minor": 5
}
