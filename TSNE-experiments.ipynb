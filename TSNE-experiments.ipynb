{
 "cells": [
  {
   "cell_type": "code",
   "execution_count": 1,
   "id": "d7a9d14d",
   "metadata": {},
   "outputs": [],
   "source": [
    "from methods import *\n",
    "import os, shutil"
   ]
  },
  {
   "cell_type": "code",
   "execution_count": 4,
   "id": "00bced77",
   "metadata": {},
   "outputs": [],
   "source": [
    "dataset_folder = \"tsne\"\n",
    "word2vec_len = 300\n",
    "\n",
    "word2vec_pickle = dataset_folder + '/word2vec.p'"
   ]
  },
  {
   "cell_type": "code",
   "execution_count": 5,
   "id": "a3e93342",
   "metadata": {
    "scrolled": true
   },
   "outputs": [
    {
     "data": {
      "text/plain": [
       "'\\noutput_file_weda = \"tsne\" + \\'/train_weda.txt\\'\\ntrain_orig = \"tsne/train_orig.txt\"\\ngen_standard_aug_weda(train_orig, output_file_weda, num_aug=9)\\n'"
      ]
     },
     "execution_count": 5,
     "metadata": {},
     "output_type": "execute_result"
    }
   ],
   "source": [
    "\"\"\"\n",
    "output_file_weda = \"tsne\" + '/train_weda.txt'\n",
    "train_orig = \"tsne/train_orig.txt\"\n",
    "gen_standard_aug_weda(train_orig, output_file_weda, num_aug=9)\n",
    "\"\"\""
   ]
  },
  {
   "cell_type": "code",
   "execution_count": 6,
   "id": "b51c61f1",
   "metadata": {},
   "outputs": [
    {
     "data": {
      "text/plain": [
       "\"\\nhuge_word2vec = 'word2vec/glove.840B.300d.txt'\\n\\ngen_vocab_dicts(dataset_folder, word2vec_pickle, huge_word2vec)\\n\""
      ]
     },
     "execution_count": 6,
     "metadata": {},
     "output_type": "execute_result"
    }
   ],
   "source": [
    "\"\"\"\n",
    "huge_word2vec = 'word2vec/glove.840B.300d.txt'\n",
    "\n",
    "gen_vocab_dicts(dataset_folder, word2vec_pickle, huge_word2vec)\n",
    "\"\"\"\n"
   ]
  },
  {
   "cell_type": "code",
   "execution_count": 7,
   "id": "ca925c48",
   "metadata": {},
   "outputs": [],
   "source": [
    "def run_cnn_tsne(train_file, test_file, num_classes, input_size, percent_dataset):\n",
    "    word2vec_pickle = \"tsne\" + '/word2vec.p'\n",
    "    word2vec = load_pickle(word2vec_pickle)\n",
    "        \n",
    "    #initialize model\n",
    "    model = build_cnn(input_size, word2vec_len, num_classes)\n",
    "\n",
    "    #load data\n",
    "    train_x, train_y = get_x_y(train_file, num_classes, word2vec_len, input_size, word2vec, percent_dataset)\n",
    "    test_x, test_y = get_x_y(test_file, num_classes, word2vec_len, input_size, word2vec, 1)\n",
    "\n",
    "    #implement early stopping\n",
    "    callbacks = [EarlyStopping(monitor='val_loss', patience=3)]\n",
    "\n",
    "    #train model\n",
    "    model.fit(\ttrain_x, \n",
    "                train_y, \n",
    "                epochs=100, \n",
    "                callbacks=callbacks,\n",
    "                validation_split=0.1, \n",
    "                batch_size=1024, \n",
    "                shuffle=True, \n",
    "                verbose=1)\n",
    "    #model.save('checkpoints/lol')\n",
    "    #model = load_model('checkpoints/lol')\n",
    "\n",
    "    #evaluate model\n",
    "    y_pred = model.predict(test_x)\n",
    "    test_y_cat = one_hot_to_categorical(test_y)\n",
    "    y_pred_cat = one_hot_to_categorical(y_pred)\n",
    "    acc = accuracy_score(test_y_cat, y_pred_cat)\n",
    "\n",
    "    #clean memory???\n",
    "    train_x, train_y = None, None\n",
    "    gc.collect()\n",
    "\n",
    "    #return the accuracy\n",
    "    #print(\"data with shape:\", train_x.shape, train_y.shape, 'train=', train_file, 'test=', test_file, 'with fraction', percent_dataset, 'had acc', acc)\n",
    "    return acc, model\n",
    "\n"
   ]
  },
  {
   "cell_type": "code",
   "execution_count": 8,
   "id": "b53a8db0",
   "metadata": {},
   "outputs": [
    {
     "name": "stdout",
     "output_type": "stream",
     "text": [
      "Epoch 1/100\n",
      "7/7 [==============================] - 2s 194ms/step - loss: 0.6791 - accuracy: 0.5820 - val_loss: 0.6350 - val_accuracy: 0.6824\n",
      "Epoch 2/100\n",
      "7/7 [==============================] - 1s 161ms/step - loss: 0.6002 - accuracy: 0.7377 - val_loss: 0.5638 - val_accuracy: 0.7324\n",
      "Epoch 3/100\n",
      "7/7 [==============================] - 1s 169ms/step - loss: 0.5083 - accuracy: 0.7857 - val_loss: 0.5013 - val_accuracy: 0.7649\n",
      "Epoch 4/100\n",
      "7/7 [==============================] - 1s 161ms/step - loss: 0.4306 - accuracy: 0.8128 - val_loss: 0.4622 - val_accuracy: 0.7797\n",
      "Epoch 5/100\n",
      "7/7 [==============================] - 1s 167ms/step - loss: 0.3747 - accuracy: 0.8355 - val_loss: 0.4519 - val_accuracy: 0.7811\n",
      "Epoch 6/100\n",
      "7/7 [==============================] - 1s 161ms/step - loss: 0.3391 - accuracy: 0.8500 - val_loss: 0.4425 - val_accuracy: 0.7905\n",
      "Epoch 7/100\n",
      "7/7 [==============================] - 1s 164ms/step - loss: 0.3029 - accuracy: 0.8740 - val_loss: 0.4365 - val_accuracy: 0.7892\n",
      "Epoch 8/100\n",
      "7/7 [==============================] - 1s 159ms/step - loss: 0.2712 - accuracy: 0.8970 - val_loss: 0.4260 - val_accuracy: 0.8000\n",
      "Epoch 9/100\n",
      "7/7 [==============================] - 1s 186ms/step - loss: 0.2401 - accuracy: 0.9181 - val_loss: 0.4250 - val_accuracy: 0.8054\n",
      "Epoch 10/100\n",
      "7/7 [==============================] - 1s 164ms/step - loss: 0.2048 - accuracy: 0.9380 - val_loss: 0.4252 - val_accuracy: 0.8081\n",
      "Epoch 11/100\n",
      "7/7 [==============================] - 1s 163ms/step - loss: 0.1661 - accuracy: 0.9563 - val_loss: 0.4287 - val_accuracy: 0.8041\n",
      "Epoch 12/100\n",
      "7/7 [==============================] - 1s 158ms/step - loss: 0.1368 - accuracy: 0.9741 - val_loss: 0.4326 - val_accuracy: 0.8000\n",
      "cnn 0.8381932532875929\n"
     ]
    }
   ],
   "source": [
    "#for storing last layer representations\n",
    "last_layer_cnn_no_aug = []\n",
    "last_layer_cnn_aug = []\n",
    "\n",
    "\n",
    "#initialize all the variables\n",
    "\n",
    "num_classes = 2\n",
    "input_size = 50\n",
    "word2vec_pickle = dataset_folder + '/word2vec.p'\n",
    "word2vec = load_pickle(word2vec_pickle)\n",
    "\n",
    "train_path = 'tsne/train_orig.txt'\n",
    "test_path = 'tsne/test.txt'\n",
    "acc, model = run_cnn_tsne(train_path, test_path, num_classes, input_size, percent_dataset=1)\n",
    "print(\"cnn\", acc)   \n",
    "model.pop()"
   ]
  },
  {
   "cell_type": "code",
   "execution_count": 9,
   "id": "0f69078f",
   "metadata": {},
   "outputs": [],
   "source": [
    "#load data\n",
    "output_file_weda = \"tsne/train_weda.txt\"\n",
    "test_orig = \"tsne/test.txt\"\n",
    "orig_x, orig_y = get_x_y(test_orig, num_classes, word2vec_len, input_size, word2vec, 1)\n",
    "aug_x, aug_y = get_x_y(output_file_weda, num_classes, word2vec_len, input_size, word2vec, 1)\n",
    "\n",
    "\n",
    "output_orig_x = model(orig_x)\n",
    "output_aug_x = model(aug_x)\n"
   ]
  },
  {
   "cell_type": "code",
   "execution_count": 10,
   "id": "6414b6de",
   "metadata": {},
   "outputs": [
    {
     "name": "stdout",
     "output_type": "stream",
     "text": [
      "(1749, 20)\n"
     ]
    }
   ],
   "source": [
    "print(output_orig_x.shape)"
   ]
  },
  {
   "cell_type": "code",
   "execution_count": 11,
   "id": "49931371",
   "metadata": {},
   "outputs": [],
   "source": [
    "output_orig_x = np.array(output_orig_x)"
   ]
  },
  {
   "cell_type": "markdown",
   "id": "566e2424",
   "metadata": {},
   "source": [
    "## Test alone"
   ]
  },
  {
   "cell_type": "code",
   "execution_count": 12,
   "id": "b0e687a9",
   "metadata": {},
   "outputs": [
    {
     "name": "stdout",
     "output_type": "stream",
     "text": [
      "(1749, 20)\n",
      "(1749, 2)\n",
      "[   0    1    2 ... 1746 1747 1748]\n",
      "[ 2  3  4  5  6  8 10 12 13 14 16 17 18 23 25 30 31 33 34 35 39 40 43 46\n",
      " 47 48 49 51 52 54  0  1  7  9 11 15 19 20 21 22 24 26 27 28 29 32 36 37\n",
      " 38 41 42 44 45 50 53 55 56 58 59 60]\n",
      "(60, 20)\n"
     ]
    }
   ],
   "source": [
    "# do tsne on output orig_x + plot\n",
    "print(output_orig_x.shape)\n",
    "from sklearn.manifold import TSNE\n",
    "\n",
    "nb_points = 30\n",
    "print(orig_y.shape)\n",
    "pos_idx = np.where(orig_y[:,0] == 1)[0][:nb_points]\n",
    "neg_idx = np.where(orig_y[:,0] == 0)[0][:nb_points]\n",
    "print(np.where(orig_y == 1)[0])\n",
    "idx_reduced = np.concatenate((pos_idx, neg_idx))\n",
    "print(idx_reduced)\n",
    "output_orig_x_reduced = []\n",
    "for idx in idx_reduced:\n",
    "    output_orig_x_reduced.append(output_orig_x[idx])\n",
    "    \n",
    "output_orig_x_reduced = np.array(output_orig_x_reduced)\n",
    "\n",
    "print(output_orig_x_reduced.shape)\n",
    "\n",
    "tsne = TSNE(n_components=2, init='random')\n",
    "orig_tsne =  tsne.fit_transform(output_orig_x_reduced)\n",
    "\n"
   ]
  },
  {
   "cell_type": "code",
   "execution_count": 13,
   "id": "48122ce7",
   "metadata": {},
   "outputs": [
    {
     "name": "stdout",
     "output_type": "stream",
     "text": [
      "(60, 2)\n"
     ]
    },
    {
     "data": {
      "image/png": "[encoded data removed]",
      "text/plain": [
       "<Figure size 432x288 with 1 Axes>"
      ]
     },
     "metadata": {
      "needs_background": "light"
     },
     "output_type": "display_data"
    }
   ],
   "source": [
    "import matplotlib.pyplot as plt\n",
    "print(orig_tsne.shape)\n",
    "\n",
    "\n",
    "plt.scatter(orig_tsne[:nb_points,0], orig_tsne[:nb_points,1])\n",
    "plt.scatter(orig_tsne[nb_points:,0], orig_tsne[nb_points:,1])\n",
    "plt.show()\n",
    "# TODO: properly plot this with colours, smaller subset of the dataset and then plot also the augmented data"
   ]
  },
  {
   "cell_type": "markdown",
   "id": "798041a3",
   "metadata": {},
   "source": [
    "## Aug alone"
   ]
  },
  {
   "cell_type": "code",
   "execution_count": 14,
   "id": "b5a68dfa",
   "metadata": {},
   "outputs": [
    {
     "name": "stdout",
     "output_type": "stream",
     "text": [
      "(34849, 20)\n",
      "(34849, 2)\n",
      "[    0     1     2 ... 34846 34847 34848]\n",
      "[  14   16   50   66   78   92  111  156  185  246  247  277  294  296\n",
      "  314  328  331  339  352  357  363  443  449  463  481  482  507  549\n",
      "  562  583  588  595  597  607  615  617  619  629  687  757  777  804\n",
      "  808  835  882  908  924  949  953  969  975  985  988  995 1002 1004\n",
      " 1044 1057 1071 1077 1080 1086 1096 1125 1144 1159 1177 1179 1213 1228\n",
      " 1249 1263 1267 1297 1307 1342 1347 1356 1406 1427 1439 1465 1478 1483\n",
      " 1519 1535 1551 1561 1563 1564 1571 1576 1605 1624 1652 1658 1661 1667\n",
      " 1738 1744 1756 1765 1773 1780 1807 1809 1837 1847 1873 1925 1933 1959\n",
      " 1977 2050 2072 2112 2116 2121 2124 2127 2133 2151 2191 2202 2205 2233\n",
      " 2237 2247 2263 2284 2296 2342 2355 2382 2384 2420 2445 2459 2476 2505\n",
      " 2538 2547 2549 2560 2562 2567 2588 2596 2648 2673 2703 2740 2833 2840\n",
      " 2851 2923 2947 2966 2974 2996 3043 3084 3092 3115 3116 3128 3133 3156\n",
      " 3177 3185 3201 3227 3229 3280 3293 3309 3319 3351 3362 3403 3414 3415\n",
      " 3417 3443 3453 3463 3473 3509 3524 3560 3564 3584 3585 3591 3631 3642\n",
      " 3649 3702 3720 3724 3741 3743 3853 3867 3885 3898 3956 3958 4003 4018\n",
      " 4054 4057 4076 4082 4096 4127 4135 4141 4157 4266 4268 4272 4303 4312\n",
      " 4316 4317 4335 4353 4405 4438 4454 4462 4465 4501 4538 4569 4573 4583\n",
      " 4608 4631 4656 4660 4666 4671 4678 4714 4740 4747 4766 4799 4826 4837\n",
      " 4854 4872 4888 4930 4936 4953 4969 4982 4994 5003 5054 5064 5068 5072\n",
      " 5087 5114 5121 5123    0    1    2    3    4    5    6    7    8    9\n",
      "   10   11   12   13   15   17   18   19   20   21   22   23   24   25\n",
      "   26   27   28   29   30   31   32   33   34   35   36   37   38   39\n",
      "   40   41   42   43   44   45   46   47   48   49   51   52   53   54\n",
      "   55   56   57   58   59   60   61   62   63   64   65   67   68   69\n",
      "   70   71   72   73   74   75   76   77   79   80   81   82   83   84\n",
      "   85   86   87   88   89   90   91   93   94   95   96   97   98   99\n",
      "  100  101  102  103  104  105  106  107  108  109  110  112  113  114\n",
      "  115  116  117  118  119  120  121  122  123  124  125  126  127  128\n",
      "  129  130  131  132  133  134  135  136  137  138  139  140  141  142\n",
      "  143  144  145  146  147  148  149  150  151  152  153  154  155  157\n",
      "  158  159  160  161  162  163  164  165  166  167  168  169  170  171\n",
      "  172  173  174  175  176  177  178  179  180  181  182  183  184  186\n",
      "  187  188  189  190  191  192  193  194  195  196  197  198  199  200\n",
      "  201  202  203  204  205  206  207  208  209  210  211  212  213  214\n",
      "  215  216  217  218  219  220  221  222  223  224  225  226  227  228\n",
      "  229  230  231  232  233  234  235  236  237  238  239  240  241  242\n",
      "  243  244  245  248  249  250  251  252  253  254  255  256  257  258\n",
      "  259  260  261  262  263  264  265  266  267  268  269  270  271  272\n",
      "  273  274  275  276  278  279  280  281]\n",
      "(540, 20)\n"
     ]
    }
   ],
   "source": [
    "# do tsne on output orig_x + plot\n",
    "print(output_aug_x.shape)\n",
    "from sklearn.manifold import TSNE\n",
    "n_aug = 9\n",
    "nb_points = 30\n",
    "print(aug_y.shape)\n",
    "pos_idx = np.where(aug_y[:,0] == 1)[0][:nb_points*n_aug]\n",
    "neg_idx = np.where(aug_y[:,0] == 0)[0][:nb_points*n_aug]\n",
    "print(np.where(aug_y == 1)[0])\n",
    "idx_reduced = np.concatenate((pos_idx, neg_idx))\n",
    "print(idx_reduced)\n",
    "output_aug_x_reduced = []\n",
    "for idx in idx_reduced:\n",
    "    output_aug_x_reduced.append(output_aug_x[idx])\n",
    "    \n",
    "output_aug_x_reduced = np.array(output_aug_x_reduced)\n",
    "\n",
    "print(output_aug_x_reduced.shape)\n",
    "\n",
    "tsne = TSNE(n_components=2, init='random')\n",
    "aug_tsne =  tsne.fit_transform(output_aug_x_reduced)\n",
    "\n",
    "\n"
   ]
  },
  {
   "cell_type": "code",
   "execution_count": 15,
   "id": "f41160e8",
   "metadata": {
    "scrolled": true
   },
   "outputs": [
    {
     "data": {
      "image/png": "[encoded data removed]",
      "text/plain": [
       "<Figure size 432x288 with 1 Axes>"
      ]
     },
     "metadata": {
      "needs_background": "light"
     },
     "output_type": "display_data"
    }
   ],
   "source": [
    "plt.scatter(aug_tsne[:nb_points*n_aug,0], aug_tsne[:nb_points*n_aug,1])\n",
    "plt.scatter(aug_tsne[nb_points*n_aug:,0], aug_tsne[nb_points*n_aug:,1])\n",
    "plt.show()"
   ]
  },
  {
   "cell_type": "markdown",
   "id": "ab8e9cc1",
   "metadata": {},
   "source": [
    "## Aug and Test"
   ]
  },
  {
   "cell_type": "code",
   "execution_count": 25,
   "id": "6098e5c5",
   "metadata": {},
   "outputs": [
    {
     "name": "stdout",
     "output_type": "stream",
     "text": [
      "(34849, 20)\n",
      "(34849, 2)\n",
      "[    0     1     2 ... 34846 34847 34848]\n",
      "[  14   16   50   66   78   92  111  156  185  246  247  277  294  296\n",
      "  314  328  331  339  352  357  363  443  449  463  481  482  507  549\n",
      "  562  583  588  595  597  607  615  617  619  629  687  757  777  804\n",
      "  808  835  882  908  924  949  953  969  975  985  988  995 1002 1004\n",
      " 1044 1057 1071 1077 1080 1086 1096 1125 1144 1159 1177 1179 1213 1228\n",
      " 1249 1263 1267 1297 1307 1342 1347 1356 1406 1427 1439 1465 1478 1483\n",
      " 1519 1535 1551 1561 1563 1564 1571 1576 1605 1624 1652 1658 1661 1667\n",
      " 1738 1744 1756 1765 1773 1780 1807 1809 1837 1847 1873 1925 1933 1959\n",
      " 1977 2050 2072 2112 2116 2121 2124 2127 2133 2151 2191 2202 2205 2233\n",
      " 2237 2247 2263 2284 2296 2342 2355 2382 2384 2420 2445 2459 2476 2505\n",
      " 2538 2547 2549 2560 2562 2567 2588 2596 2648 2673 2703 2740 2833 2840\n",
      " 2851 2923 2947 2966 2974 2996 3043 3084 3092 3115 3116 3128 3133 3156\n",
      " 3177 3185 3201 3227 3229 3280 3293 3309 3319 3351 3362 3403 3414 3415\n",
      " 3417 3443 3453 3463 3473 3509 3524 3560 3564 3584 3585 3591 3631 3642\n",
      " 3649 3702 3720 3724 3741 3743 3853 3867 3885 3898 3956 3958 4003 4018\n",
      " 4054 4057 4076 4082 4096 4127 4135 4141 4157 4266 4268 4272 4303 4312\n",
      " 4316 4317 4335 4353 4405 4438 4454 4462 4465 4501 4538 4569 4573 4583\n",
      " 4608 4631 4656 4660 4666 4671 4678 4714 4740 4747 4766 4799 4826 4837\n",
      " 4854 4872 4888 4930 4936 4953 4969 4982 4994 5003 5054 5064 5068 5072\n",
      " 5087 5114 5121 5123    0    1    2    3    4    5    6    7    8    9\n",
      "   10   11   12   13   15   17   18   19   20   21   22   23   24   25\n",
      "   26   27   28   29   30   31   32   33   34   35   36   37   38   39\n",
      "   40   41   42   43   44   45   46   47   48   49   51   52   53   54\n",
      "   55   56   57   58   59   60   61   62   63   64   65   67   68   69\n",
      "   70   71   72   73   74   75   76   77   79   80   81   82   83   84\n",
      "   85   86   87   88   89   90   91   93   94   95   96   97   98   99\n",
      "  100  101  102  103  104  105  106  107  108  109  110  112  113  114\n",
      "  115  116  117  118  119  120  121  122  123  124  125  126  127  128\n",
      "  129  130  131  132  133  134  135  136  137  138  139  140  141  142\n",
      "  143  144  145  146  147  148  149  150  151  152  153  154  155  157\n",
      "  158  159  160  161  162  163  164  165  166  167  168  169  170  171\n",
      "  172  173  174  175  176  177  178  179  180  181  182  183  184  186\n",
      "  187  188  189  190  191  192  193  194  195  196  197  198  199  200\n",
      "  201  202  203  204  205  206  207  208  209  210  211  212  213  214\n",
      "  215  216  217  218  219  220  221  222  223  224  225  226  227  228\n",
      "  229  230  231  232  233  234  235  236  237  238  239  240  241  242\n",
      "  243  244  245  248  249  250  251  252  253  254  255  256  257  258\n",
      "  259  260  261  262  263  264  265  266  267  268  269  270  271  272\n",
      "  273  274  275  276  278  279  280  281]\n",
      "(540, 20)\n",
      "[   0    1    2 ... 1746 1747 1748]\n",
      "[ 2  3  4  5  6  8 10 12 13 14 16 17 18 23 25 30 31 33 34 35 39 40 43 46\n",
      " 47 48 49 51 52 54  0  1  7  9 11 15 19 20 21 22 24 26 27 28 29 32 36 37\n",
      " 38 41 42 44 45 50 53 55 56 58 59 60]\n",
      "(60, 20)\n",
      "(600, 20)\n"
     ]
    }
   ],
   "source": [
    "# do tsne on output orig_x + plot\n",
    "print(output_aug_x.shape)\n",
    "from sklearn.manifold import TSNE\n",
    "\n",
    "n_aug = 9\n",
    "nb_points = 30\n",
    "print(aug_y.shape)\n",
    "pos_idx = np.where(aug_y[:,0] == 1)[0][:nb_points*n_aug]\n",
    "neg_idx = np.where(aug_y[:,0] == 0)[0][:nb_points*n_aug]\n",
    "print(np.where(aug_y == 1)[0])\n",
    "idx_reduced = np.concatenate((pos_idx, neg_idx))\n",
    "print(idx_reduced)\n",
    "output_aug_x_reduced = []\n",
    "for idx in idx_reduced:\n",
    "    output_aug_x_reduced.append(output_aug_x[idx])\n",
    "    \n",
    "output_aug_x_reduced = np.array(output_aug_x_reduced)\n",
    "\n",
    "print(output_aug_x_reduced.shape)\n",
    "\n",
    "\n",
    "pos_idx = np.where(orig_y[:,0] == 1)[0][:nb_points]\n",
    "neg_idx = np.where(orig_y[:,0] == 0)[0][:nb_points]\n",
    "print(np.where(orig_y == 1)[0])\n",
    "idx_reduced = np.concatenate((pos_idx, neg_idx))\n",
    "print(idx_reduced)\n",
    "output_orig_x_reduced = []\n",
    "for idx in idx_reduced:\n",
    "    output_orig_x_reduced.append(output_orig_x[idx])\n",
    "    \n",
    "output_orig_x_reduced = np.array(output_orig_x_reduced)\n",
    "\n",
    "print(output_orig_x_reduced.shape)\n",
    "\n",
    "output_combined_x_reduced = np.concatenate((output_orig_x_reduced, output_aug_x_reduced))\n",
    "print(output_combined_x_reduced.shape)\n",
    "\n",
    "\n",
    "tsne = TSNE(n_components=2, init='random')\n",
    "combined_tsne =  tsne.fit_transform(output_combined_x_reduced)\n",
    "\n",
    "\n",
    "\n"
   ]
  },
  {
   "cell_type": "code",
   "execution_count": 26,
   "id": "37fca9cb",
   "metadata": {},
   "outputs": [
    {
     "data": {
      "image/png": "[encoded data removed]",
      "text/plain": [
       "<Figure size 1080x720 with 1 Axes>"
      ]
     },
     "metadata": {
      "needs_background": "light"
     },
     "output_type": "display_data"
    }
   ],
   "source": [
    "plt.figure(figsize=(15,10))\n",
    "plt.title(\"Label conservation of augmented data\")\n",
    "plt.scatter(combined_tsne[:nb_points,0], combined_tsne[:nb_points,1], color=\"b\", label=\"Neg\")\n",
    "plt.scatter(combined_tsne[nb_points:nb_points*2,0], combined_tsne[nb_points:nb_points*2,1], color =\"r\", label=\"Pos\")\n",
    "plt.scatter(combined_tsne[nb_points*2:nb_points*(n_aug+2),0], combined_tsne[nb_points*2:nb_points*(n_aug+2),1], marker='^', color=\"b\", label=\"Neg Aug\")\n",
    "plt.scatter(combined_tsne[nb_points*(n_aug+2):,0], combined_tsne[nb_points*(n_aug+2):,1],marker='^', color=\"r\", label=\"Pos Aug\" )\n",
    "plt.legend()\n",
    "plt.show()"
   ]
  },
  {
   "cell_type": "code",
   "execution_count": null,
   "id": "3b76c7b7",
   "metadata": {},
   "outputs": [],
   "source": []
  }
 ],
 "metadata": {
  "kernelspec": {
   "display_name": "Python 3",
   "language": "python",
   "name": "python3"
  },
  "language_info": {
   "codemirror_mode": {
    "name": "ipython",
    "version": 3
   },
   "file_extension": ".py",
   "mimetype": "text/x-python",
   "name": "python",
   "nbconvert_exporter": "python",
   "pygments_lexer": "ipython3",
   "version": "3.7.0"
  }
 },
 "nbformat": 4,
 "nbformat_minor": 5
}
