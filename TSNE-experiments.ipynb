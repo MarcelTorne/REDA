{
 "cells": [
  {
   "cell_type": "code",
   "execution_count": 1,
   "id": "5290020b",
   "metadata": {},
   "outputs": [],
   "source": [
    "from methods import *\n",
    "import os, shutil"
   ]
  },
  {
   "cell_type": "code",
   "execution_count": 3,
   "id": "b6ed6085",
   "metadata": {
    "scrolled": true
   },
   "outputs": [
    {
     "name": "stdout",
     "output_type": "stream",
     "text": [
      "finished weda for tsne/train_orig.txt to tsne/train_weda.txt\n"
     ]
    }
   ],
   "source": [
    "output_file_weda = \"tsne\" + '/train_weda.txt'\n",
    "train_orig = \"tsne/train_orig.txt\"\n",
    "gen_standard_aug_weda(train_orig, output_file_weda, num_aug=9)"
   ]
  },
  {
   "cell_type": "code",
   "execution_count": 10,
   "id": "4aae368d",
   "metadata": {},
   "outputs": [
    {
     "name": "stdout",
     "output_type": "stream",
     "text": [
      "['tsne/test.txt', 'tsne/train_orig.txt', 'tsne/train_weda.txt']\n",
      "27936 unique words found\n",
      "20835 matches between unique words and word2vec dictionary\n",
      "dictionaries outputted to tsne/word2vec.p\n"
     ]
    }
   ],
   "source": [
    "huge_word2vec = 'word2vec/glove.840B.300d.txt'\n",
    "word2vec_len = 300\n",
    "\n",
    "word2vec_pickle = dataset_folder + '/word2vec.p'\n",
    "gen_vocab_dicts(dataset_folder, word2vec_pickle, huge_word2vec)"
   ]
  },
  {
   "cell_type": "code",
   "execution_count": 16,
   "id": "65bcf029",
   "metadata": {},
   "outputs": [],
   "source": [
    "def run_cnn_tsne(train_file, test_file, num_classes, input_size, percent_dataset):\n",
    "    word2vec_pickle = \"tsne\" + '/word2vec.p'\n",
    "    word2vec = load_pickle(word2vec_pickle)\n",
    "        \n",
    "    #initialize model\n",
    "    model = build_cnn(input_size, word2vec_len, num_classes)\n",
    "\n",
    "    #load data\n",
    "    train_x, train_y = get_x_y(train_file, num_classes, word2vec_len, input_size, word2vec, percent_dataset)\n",
    "    test_x, test_y = get_x_y(test_file, num_classes, word2vec_len, input_size, word2vec, 1)\n",
    "\n",
    "    #implement early stopping\n",
    "    callbacks = [EarlyStopping(monitor='val_loss', patience=3)]\n",
    "\n",
    "    #train model\n",
    "    model.fit(\ttrain_x, \n",
    "                train_y, \n",
    "                epochs=10, \n",
    "                callbacks=callbacks,\n",
    "                validation_split=0.1, \n",
    "                batch_size=1024, \n",
    "                shuffle=True, \n",
    "                verbose=1)\n",
    "    #model.save('checkpoints/lol')\n",
    "    #model = load_model('checkpoints/lol')\n",
    "\n",
    "    #evaluate model\n",
    "    y_pred = model.predict(test_x)\n",
    "    test_y_cat = one_hot_to_categorical(test_y)\n",
    "    y_pred_cat = one_hot_to_categorical(y_pred)\n",
    "    acc = accuracy_score(test_y_cat, y_pred_cat)\n",
    "\n",
    "    #clean memory???\n",
    "    train_x, train_y = None, None\n",
    "    gc.collect()\n",
    "\n",
    "    #return the accuracy\n",
    "    #print(\"data with shape:\", train_x.shape, train_y.shape, 'train=', train_file, 'test=', test_file, 'with fraction', percent_dataset, 'had acc', acc)\n",
    "    return acc, model\n",
    "\n"
   ]
  },
  {
   "cell_type": "code",
   "execution_count": 19,
   "id": "8664115a",
   "metadata": {},
   "outputs": [
    {
     "name": "stdout",
     "output_type": "stream",
     "text": [
      "Epoch 1/10\n",
      "7/7 [==============================] - 4s 361ms/step - loss: 0.6810 - accuracy: 0.5556 - val_loss: 0.6284 - val_accuracy: 0.7149\n",
      "Epoch 2/10\n",
      "7/7 [==============================] - 2s 347ms/step - loss: 0.6093 - accuracy: 0.7302 - val_loss: 0.5582 - val_accuracy: 0.7432\n",
      "Epoch 3/10\n",
      "7/7 [==============================] - 2s 308ms/step - loss: 0.5234 - accuracy: 0.7948 - val_loss: 0.4827 - val_accuracy: 0.7649\n",
      "Epoch 4/10\n",
      "7/7 [==============================] - 2s 291ms/step - loss: 0.4444 - accuracy: 0.8130 - val_loss: 0.4415 - val_accuracy: 0.7865\n",
      "Epoch 5/10\n",
      "7/7 [==============================] - 2s 295ms/step - loss: 0.3831 - accuracy: 0.8352 - val_loss: 0.4317 - val_accuracy: 0.7811\n",
      "Epoch 6/10\n",
      "7/7 [==============================] - 2s 307ms/step - loss: 0.3515 - accuracy: 0.8521 - val_loss: 0.4273 - val_accuracy: 0.7838\n",
      "Epoch 7/10\n",
      "7/7 [==============================] - 2s 298ms/step - loss: 0.3215 - accuracy: 0.8687 - val_loss: 0.4264 - val_accuracy: 0.7851\n",
      "Epoch 8/10\n",
      "7/7 [==============================] - 2s 305ms/step - loss: 0.2895 - accuracy: 0.8876 - val_loss: 0.4201 - val_accuracy: 0.7946\n",
      "Epoch 9/10\n",
      "7/7 [==============================] - 2s 276ms/step - loss: 0.2522 - accuracy: 0.9089 - val_loss: 0.4207 - val_accuracy: 0.7973\n",
      "Epoch 10/10\n",
      "7/7 [==============================] - 2s 280ms/step - loss: 0.2150 - accuracy: 0.9291 - val_loss: 0.4214 - val_accuracy: 0.7973\n",
      "cnn 0.8393367638650657\n"
     ]
    }
   ],
   "source": [
    "#for storing last layer representations\n",
    "last_layer_cnn_no_aug = []\n",
    "last_layer_cnn_aug = []\n",
    "\n",
    "\n",
    "#initialize all the variables\n",
    "dataset_folder = \"tsne\"\n",
    "num_classes = 2\n",
    "input_size = 50\n",
    "word2vec_pickle = dataset_folder + '/word2vec.p'\n",
    "word2vec = load_pickle(word2vec_pickle)\n",
    "\n",
    "train_path = 'tsne/train_orig.txt'\n",
    "test_path = 'tsne/test.txt'\n",
    "acc, model = run_cnn_tsne(train_path, test_path, num_classes, input_size, percent_dataset=1)\n",
    "print(\"cnn\", acc)   \n",
    "model.pop()"
   ]
  },
  {
   "cell_type": "code",
   "execution_count": 20,
   "id": "6b96a9a4",
   "metadata": {},
   "outputs": [],
   "source": [
    "#load data\n",
    "output_file_weda = \"tsne\" + '/train_weda.txt'\n",
    "train_orig = \"tsne/train_orig.txt\"\n",
    "orig_x, orig_y = get_x_y(train_orig, num_classes, word2vec_len, input_size, word2vec, 1)\n",
    "aug_x, aug_y = get_x_y(output_file_weda, num_classes, word2vec_len, input_size, word2vec, 1)\n",
    "\n",
    "\n",
    "output_orig_x = model(orig_x)\n",
    "output_aug_x = model(aug_x)\n"
   ]
  },
  {
   "cell_type": "code",
   "execution_count": 22,
   "id": "752eb3fb",
   "metadata": {},
   "outputs": [
    {
     "name": "stdout",
     "output_type": "stream",
     "text": [
      "(7393, 20)\n"
     ]
    }
   ],
   "source": [
    "print(output_orig_x.shape)"
   ]
  },
  {
   "cell_type": "code",
   "execution_count": null,
   "id": "934e84b1",
   "metadata": {},
   "outputs": [],
   "source": [
    "output_orig_x = np.array(output_orig_x)"
   ]
  },
  {
   "cell_type": "code",
   "execution_count": 26,
   "id": "75bcad1d",
   "metadata": {},
   "outputs": [
    {
     "name": "stdout",
     "output_type": "stream",
     "text": [
      "(7393, 20)\n"
     ]
    },
    {
     "ename": "TypeError",
     "evalue": "'tuple' object is not callable",
     "output_type": "error",
     "traceback": [
      "\u001b[0;31m---------------------------------------------------------------------------\u001b[0m",
      "\u001b[0;31mTypeError\u001b[0m                                 Traceback (most recent call last)",
      "\u001b[0;32m<ipython-input-26-40454555c9be>\u001b[0m in \u001b[0;36m<module>\u001b[0;34m\u001b[0m\n\u001b[1;32m      5\u001b[0m \u001b[0morig_tsne\u001b[0m \u001b[0;34m=\u001b[0m  \u001b[0mTSNE\u001b[0m\u001b[0;34m(\u001b[0m\u001b[0mn_components\u001b[0m\u001b[0;34m=\u001b[0m\u001b[0;36m2\u001b[0m\u001b[0;34m,\u001b[0m\u001b[0minit\u001b[0m\u001b[0;34m=\u001b[0m\u001b[0;34m'random'\u001b[0m\u001b[0;34m)\u001b[0m\u001b[0;34m.\u001b[0m\u001b[0mfit_transform\u001b[0m\u001b[0;34m(\u001b[0m\u001b[0moutput_orig_x\u001b[0m\u001b[0;34m)\u001b[0m\u001b[0;34m\u001b[0m\u001b[0m\n\u001b[1;32m      6\u001b[0m \u001b[0;34m\u001b[0m\u001b[0m\n\u001b[0;32m----> 7\u001b[0;31m \u001b[0mprint\u001b[0m\u001b[0;34m(\u001b[0m\u001b[0morig_tsne\u001b[0m\u001b[0;34m.\u001b[0m\u001b[0mshape\u001b[0m\u001b[0;34m(\u001b[0m\u001b[0;34m)\u001b[0m\u001b[0;34m)\u001b[0m\u001b[0;34m\u001b[0m\u001b[0m\n\u001b[0m\u001b[1;32m      8\u001b[0m \u001b[0mplt\u001b[0m\u001b[0;34m.\u001b[0m\u001b[0mplot\u001b[0m\u001b[0;34m(\u001b[0m\u001b[0morig_tsne\u001b[0m\u001b[0;34m[\u001b[0m\u001b[0;34m:\u001b[0m\u001b[0;34m,\u001b[0m\u001b[0;36m0\u001b[0m\u001b[0;34m]\u001b[0m\u001b[0;34m,\u001b[0m \u001b[0morig_tsne\u001b[0m\u001b[0;34m[\u001b[0m\u001b[0;34m:\u001b[0m\u001b[0;34m,\u001b[0m\u001b[0;36m1\u001b[0m\u001b[0;34m]\u001b[0m\u001b[0;34m)\u001b[0m\u001b[0;34m\u001b[0m\u001b[0m\n\u001b[1;32m      9\u001b[0m \u001b[0mplt\u001b[0m\u001b[0;34m.\u001b[0m\u001b[0mshow\u001b[0m\u001b[0;34m(\u001b[0m\u001b[0;34m)\u001b[0m\u001b[0;34m\u001b[0m\u001b[0m\n",
      "\u001b[0;31mTypeError\u001b[0m: 'tuple' object is not callable"
     ]
    }
   ],
   "source": [
    "# do tsne on output orig_x + plot\n",
    "print(output_orig_x.shape)\n",
    "from sklearn.manifold import TSNE\n",
    "\n",
    "orig_tsne =  TSNE(n_components=2, init='random').fit_transform(output_orig_x)\n",
    "\n"
   ]
  },
  {
   "cell_type": "code",
   "execution_count": 28,
   "id": "7e4df2e3",
   "metadata": {},
   "outputs": [
    {
     "name": "stdout",
     "output_type": "stream",
     "text": [
      "(7393, 2)\n"
     ]
    },
    {
     "data": {
      "image/png": "[encoded data removed]",
      "text/plain": [
       "<Figure size 432x288 with 1 Axes>"
      ]
     },
     "metadata": {
      "needs_background": "light"
     },
     "output_type": "display_data"
    }
   ],
   "source": [
    "import matplotlib.pyplot as plt\n",
    "print(orig_tsne.shape)\n",
    "plt.plot(orig_tsne[:,0], orig_tsne[:,1])\n",
    "plt.show()\n",
    "# TODO: properly plot this with colours, smaller subset of the dataset and then plot also the augmented data"
   ]
  }
 ],
 "metadata": {
  "kernelspec": {
   "display_name": "Python 3",
   "language": "python",
   "name": "python3"
  },
  "language_info": {
   "codemirror_mode": {
    "name": "ipython",
    "version": 3
   },
   "file_extension": ".py",
   "mimetype": "text/x-python",
   "name": "python",
   "nbconvert_exporter": "python",
   "pygments_lexer": "ipython3",
   "version": "3.7.0"
  }
 },
 "nbformat": 4,
 "nbformat_minor": 5
}
