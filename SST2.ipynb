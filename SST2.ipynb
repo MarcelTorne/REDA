{
 "cells": [
  {
   "cell_type": "code",
   "execution_count": 1,
   "id": "de2aec61",
   "metadata": {},
   "outputs": [],
   "source": [
    "import methods"
   ]
  },
  {
   "cell_type": "code",
   "execution_count": null,
   "id": "4fa1a955",
   "metadata": {},
   "outputs": [],
   "source": [
    "## config file\n",
    "datasets = ['sst']\n",
    "dataset_folders = ['increment_datasets_f2/' + dataset for dataset in datasets] \n",
    "num_classes_list = [2]\n",
    "input_size_list = [50]\n",
    "huge_word2vec = 'word2vec/glove.840B.300d.txt'\n",
    "word2vec_len = 300"
   ]
  },
  {
   "cell_type": "code",
   "execution_count": 2,
   "id": "45fd8cb3",
   "metadata": {},
   "outputs": [],
   "source": [
    "#pre-existing file locations\n",
    "dataset_folder = \"sst\"\n",
    "\n",
    "train_orig = dataset_folder + '/train_orig.txt'\n",
    "\n",
    "#file to be created\n",
    "train_aug_st = dataset_folder + '/train_aug_st.txt'\n",
    "\n",
    "#standard augmentation\n",
    "gen_standard_aug(train_orig, train_aug_st)\n",
    "\n",
    "#generate the vocab dictionary\n",
    "word2vec_pickle = dataset_folder + '/word2vec.p' # don't want to load the huge pickle every time, so just save the words that are actually used into a smaller dictionary\n",
    "gen_vocab_dicts(dataset_folder, word2vec_pickle, huge_word2vec)"
   ]
  },
  {
   "cell_type": "code",
   "execution_count": null,
   "id": "982a1e05",
   "metadata": {},
   "outputs": [],
   "source": [
    "###############################\n",
    "#### run model and get acc ####\n",
    "###############################\n",
    "\n",
    "def run_model(train_file, test_file, num_classes, percent_dataset):\n",
    "\n",
    "    #initialize model\n",
    "    model = build_model(input_size, word2vec_len, num_classes)\n",
    "\n",
    "    #load data\n",
    "    train_x, train_y = get_x_y(train_file, num_classes, word2vec_len, input_size, word2vec, percent_dataset)\n",
    "    test_x, test_y = get_x_y(test_file, num_classes, word2vec_len, input_size, word2vec, 1)\n",
    "\n",
    "    #implement early stopping\n",
    "    callbacks = [EarlyStopping(monitor='val_loss', patience=3)]\n",
    "\n",
    "    #train model\n",
    "    model.fit(\ttrain_x, \n",
    "                train_y, \n",
    "                epochs=100000, \n",
    "                callbacks=callbacks,\n",
    "                validation_split=0.1, \n",
    "                batch_size=1024, \n",
    "                shuffle=True, \n",
    "                verbose=0)\n",
    "    #model.save('checkpoints/lol')\n",
    "    #model = load_model('checkpoints/lol')\n",
    "\n",
    "    #evaluate model\n",
    "    y_pred = model.predict(test_x)\n",
    "    test_y_cat = one_hot_to_categorical(test_y)\n",
    "    y_pred_cat = one_hot_to_categorical(y_pred)\n",
    "    acc = accuracy_score(test_y_cat, y_pred_cat)\n",
    "\n",
    "    #clean memory???\n",
    "    train_x, train_y = None, None\n",
    "    gc.collect()\n",
    "\n",
    "    #return the accuracy\n",
    "    #print(\"data with shape:\", train_x.shape, train_y.shape, 'train=', train_file, 'test=', test_file, 'with fraction', percent_dataset, 'had acc', acc)\n",
    "    return acc"
   ]
  },
  {
   "cell_type": "code",
   "execution_count": null,
   "id": "21f273e6",
   "metadata": {},
   "outputs": [],
   "source": [
    "#get the accuracy at each increment\n",
    "\n",
    "orig_accs = {dataset:{} for dataset in datasets}\n",
    "aug_accs = {dataset:{} for dataset in datasets}\n",
    "\n",
    "writer = open('outputs_f2/' + get_now_str() + '.csv', 'w')\n",
    "\n",
    "#for each dataset\n",
    "for i, dataset_folder in enumerate(dataset_folders):\n",
    "\n",
    "    dataset = datasets[i]\n",
    "    num_classes = num_classes_list[i]\n",
    "    input_size = input_size_list[i]\n",
    "    train_orig = dataset_folder + '/train_orig.txt'\n",
    "    train_aug_st = dataset_folder + '/train_aug_st.txt'\n",
    "    test_path = dataset_folder + '/test.txt'\n",
    "    word2vec_pickle = dataset_folder + '/word2vec.p'\n",
    "    word2vec = load_pickle(word2vec_pickle)\n",
    "\n",
    "    for increment in increments:\n",
    "\n",
    "        #calculate augmented accuracy\n",
    "        aug_acc = run_model(train_aug_st, test_path, num_classes, increment)\n",
    "        aug_accs[dataset][increment] = aug_acc\n",
    "\n",
    "        #calculate original accuracy\n",
    "        orig_acc = run_model(train_orig, test_path, num_classes, increment)\n",
    "        orig_accs[dataset][increment] = orig_acc\n",
    "\n",
    "        print(dataset, increment, orig_acc, aug_acc)\n",
    "        writer.write(dataset + ',' + str(increment) + ',' + str(orig_acc) + ',' + str(aug_acc) + '\\n')\n",
    "\n",
    "        gc.collect()\n",
    "\n",
    "print(orig_accs, aug_accs)"
   ]
  }
 ],
 "metadata": {
  "kernelspec": {
   "display_name": "Python 3",
   "language": "python",
   "name": "python3"
  },
  "language_info": {
   "codemirror_mode": {
    "name": "ipython",
    "version": 3
   },
   "file_extension": ".py",
   "mimetype": "text/x-python",
   "name": "python",
   "nbconvert_exporter": "python",
   "pygments_lexer": "ipython3",
   "version": "3.7.0"
  }
 },
 "nbformat": 4,
 "nbformat_minor": 5
}
