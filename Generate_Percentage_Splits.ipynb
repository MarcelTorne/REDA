{
 "cells": [
  {
   "cell_type": "code",
   "execution_count": 1,
   "id": "ee2a7b5d",
   "metadata": {},
   "outputs": [],
   "source": [
    "import numpy as np\n",
    "import shutil, os"
   ]
  },
  {
   "cell_type": "code",
   "execution_count": 2,
   "id": "4f7eadd7",
   "metadata": {},
   "outputs": [],
   "source": [
    "datasets = [\"sst2\"]\n",
    "\n",
    "sizes = [0.01, 0.05, 0.1, 0.2, 0.3, 0.4, 0.5, 0.6, 0.7, 0.8, 0.9, 1.0]\n",
    "\n",
    "folders_list =  ['percent_data/' + str(int(size*100)) for size in sizes]\n"
   ]
  },
  {
   "cell_type": "code",
   "execution_count": 6,
   "id": "976546f0",
   "metadata": {},
   "outputs": [],
   "source": [
    "# We want percent_data/percentages/dataset/file\n",
    "\n",
    "for dataset in datasets:\n",
    "    original = dataset + \"/train_orig.txt\" \n",
    "    lines = open(original, \"r\").readlines()\n",
    "    N = len(lines)\n",
    "    \n",
    "    for i in range(len(folders_list)):\n",
    "        if not os.path.isdir(folders_list[i]):\n",
    "            os.makedirs(folders_list[i])\n",
    "            \n",
    "        folder =  folders_list[i] + \"/\" + dataset\n",
    "        \n",
    "        if not os.path.isdir(folder):\n",
    "            os.makedirs(folder)\n",
    "            \n",
    "        destination =  folder + \"/train_orig.txt\"\n",
    "        \n",
    "        if i < len(sizes):\n",
    "            size = sizes[i]\n",
    "            dataset_idx = np.random.choice(N, int(N*size), replace=False)\n",
    "            f = open(destination, 'w')\n",
    "            for idx in dataset_idx:\n",
    "                f.write(lines[idx])\n",
    "        else:\n",
    "            shutil.copy(original, destination)\n",
    "            \n",
    "        \n",
    "        \n",
    "        \n",
    "        \n",
    "        "
   ]
  },
  {
   "cell_type": "code",
   "execution_count": null,
   "id": "964fce47",
   "metadata": {},
   "outputs": [],
   "source": []
  },
  {
   "cell_type": "code",
   "execution_count": null,
   "id": "02093499",
   "metadata": {},
   "outputs": [],
   "source": []
  },
  {
   "cell_type": "code",
   "execution_count": null,
   "id": "646281c6",
   "metadata": {},
   "outputs": [],
   "source": []
  },
  {
   "cell_type": "code",
   "execution_count": null,
   "id": "83f82fc0",
   "metadata": {},
   "outputs": [],
   "source": []
  }
 ],
 "metadata": {
  "kernelspec": {
   "display_name": "AM205",
   "language": "python",
   "name": "am205"
  },
  "language_info": {
   "codemirror_mode": {
    "name": "ipython",
    "version": 3
   },
   "file_extension": ".py",
   "mimetype": "text/x-python",
   "name": "python",
   "nbconvert_exporter": "python",
   "pygments_lexer": "ipython3",
   "version": "3.9.7"
  }
 },
 "nbformat": 4,
 "nbformat_minor": 5
}
