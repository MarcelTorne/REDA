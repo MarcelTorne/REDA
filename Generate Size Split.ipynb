{
 "cells": [
  {
   "cell_type": "code",
   "execution_count": 1,
   "id": "19a2afdb",
   "metadata": {},
   "outputs": [],
   "source": [
    "import numpy as np\n",
    "import shutil, os"
   ]
  },
  {
   "cell_type": "code",
   "execution_count": 2,
   "id": "06a241a8",
   "metadata": {},
   "outputs": [],
   "source": [
    "datasets = [\"sst2\"]\n",
    "\n",
    "folders_list =  ['alphas_sized_decomposed_f1/1_tiny','alphas_sized_decomposed_f1/2_small','alphas_sized_decomposed_f1/3_standard','alphas_sized_decomposed_f1/4_full']\n",
    "sizes = [500, 2000, 5000]"
   ]
  },
  {
   "cell_type": "code",
   "execution_count": 3,
   "id": "d8b3c721",
   "metadata": {},
   "outputs": [],
   "source": [
    "for dataset in datasets:\n",
    "    original = dataset + \"/train_orig.txt\" \n",
    "    lines = open(original, \"r\").readlines()\n",
    "    N = len(lines)\n",
    "    \n",
    "    for i in range(len(folders_list)):\n",
    "        if not os.path.isdir(folders_list[i]):\n",
    "            os.mkdir(folders_list[i])\n",
    "            \n",
    "        folder =  folders_list[i] + \"/\" + dataset\n",
    "        \n",
    "        if not os.path.isdir(folder):\n",
    "            os.mkdir(folder)\n",
    "            \n",
    "        destination =  folder + \"/train_orig.txt\"\n",
    "        \n",
    "        if i < len(sizes):\n",
    "            size = sizes[i]\n",
    "            dataset_idx = np.random.choice(N, size, replace=False)\n",
    "            f = open(destination, 'w')\n",
    "            for idx in dataset_idx:\n",
    "                f.write(lines[idx])\n",
    "        else:\n",
    "            shutil.copy(original, destination)\n",
    "            \n",
    "        \n",
    "        \n",
    "        \n",
    "        \n",
    "        "
   ]
  }
 ],
 "metadata": {
  "kernelspec": {
   "display_name": "Python 3",
   "language": "python",
   "name": "python3"
  },
  "language_info": {
   "codemirror_mode": {
    "name": "ipython",
    "version": 3
   },
   "file_extension": ".py",
   "mimetype": "text/x-python",
   "name": "python",
   "nbconvert_exporter": "python",
   "pygments_lexer": "ipython3",
   "version": "3.7.0"
  }
 },
 "nbformat": 4,
 "nbformat_minor": 5
}
