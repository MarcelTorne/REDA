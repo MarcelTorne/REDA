{
 "cells": [
  {
   "cell_type": "code",
   "execution_count": 1,
   "id": "9a14e933",
   "metadata": {},
   "outputs": [],
   "source": [
    "from methods import *\n",
    "import os, shutil"
   ]
  },
  {
   "cell_type": "code",
   "execution_count": 2,
   "id": "da39f11b",
   "metadata": {},
   "outputs": [],
   "source": [
    "#import nltk\n",
    "#nltk.download('wordnet')"
   ]
  },
  {
   "cell_type": "code",
   "execution_count": 3,
   "id": "4096ec2e",
   "metadata": {},
   "outputs": [],
   "source": [
    "# We have percent_data/percentages/dataset/train_orig.txt\n",
    "\n",
    "#load hyperparameters\n",
    "sizes = [0.01, 0.05, 0.1, 0.2, 0.3, 0.4, 0.5, 0.6, 0.7, 0.8, 0.9, 1.0]\n",
    "\n",
    "folders_list =  ['percent_data/' + str(int(size*100)) for size in sizes]\n",
    "#size_folders = ['size_data_f1/' + size for size in sizes]\n",
    "\n",
    "#datasets\n",
    "datasets = ['sst2']\n",
    "\n",
    "#number of output classes\n",
    "num_classes_list = [2, 2, 2, 6, 2]\n",
    "\n",
    "#number of augmentations per original sentence\n",
    "n_aug_list_dict = {'size_data_f1/1_tiny': [32, 32, 32, 32, 32], \n",
    "\t\t\t\t\t'size_data_f1/2_small': [32, 32, 32, 32, 32],\n",
    "\t\t\t\t\t'size_data_f1/3_standard': [16, 16, 16, 16, 4],\n",
    "\t\t\t\t\t'size_data_f1/4_full': [16, 16, 16, 16, 4]}\n",
    "\n",
    "if not os.path.isdir('size_data_f1'):\n",
    "    os.mkdir('size_data_f1')\n",
    "#number of words for input\n",
    "input_size_list = [50, 50, 40, 25, 25]\n",
    "\n",
    "\n",
    "# Number of words for input\n",
    "input_size_list = [50,50,40,25,25]\n",
    "\n",
    "#word2vec dictionary\n",
    "huge_word2vec = 'word2vec/glove.840B.300d.txt'\n",
    "word2vec_len = 300"
   ]
  },
  {
   "cell_type": "code",
   "execution_count": 5,
   "id": "f5755619",
   "metadata": {},
   "outputs": [
    {
     "name": "stdout",
     "output_type": "stream",
     "text": [
      "finished weda for percent_data/1/sst2/train_orig.txt to percent_data/1/sst2/train_weda_pct_tfidf4.txt\n",
      "finished weda for percent_data/5/sst2/train_orig.txt to percent_data/5/sst2/train_weda_pct_tfidf4.txt\n",
      "finished weda for percent_data/10/sst2/train_orig.txt to percent_data/10/sst2/train_weda_pct_tfidf4.txt\n",
      "finished weda for percent_data/20/sst2/train_orig.txt to percent_data/20/sst2/train_weda_pct_tfidf4.txt\n",
      "finished weda for percent_data/30/sst2/train_orig.txt to percent_data/30/sst2/train_weda_pct_tfidf4.txt\n",
      "finished weda for percent_data/40/sst2/train_orig.txt to percent_data/40/sst2/train_weda_pct_tfidf4.txt\n",
      "finished weda for percent_data/50/sst2/train_orig.txt to percent_data/50/sst2/train_weda_pct_tfidf4.txt\n",
      "finished weda for percent_data/60/sst2/train_orig.txt to percent_data/60/sst2/train_weda_pct_tfidf4.txt\n",
      "finished weda for percent_data/70/sst2/train_orig.txt to percent_data/70/sst2/train_weda_pct_tfidf4.txt\n",
      "finished weda for percent_data/80/sst2/train_orig.txt to percent_data/80/sst2/train_weda_pct_tfidf4.txt\n",
      "finished weda for percent_data/90/sst2/train_orig.txt to percent_data/90/sst2/train_weda_pct_tfidf4.txt\n",
      "finished weda for percent_data/100/sst2/train_orig.txt to percent_data/100/sst2/train_weda_pct_tfidf4.txt\n"
     ]
    }
   ],
   "source": [
    "alpha = 0.2\n",
    "n_aug = 16\n",
    "tfidf_func = 4\n",
    "for size_folder in folders_list:\n",
    "    if not os.path.isdir(size_folder):\n",
    "        os.mkdir(size_folder)\n",
    "\n",
    "    dataset_folders = [size_folder + '/' + s for s in datasets]\n",
    "\n",
    "    #for each dataset\n",
    "    for i, dataset_folder in enumerate(dataset_folders):\n",
    "        if not os.path.isdir(dataset_folder):\n",
    "            os.mkdir(dataset_folder)\n",
    "\n",
    "        #pre-existing file locations\n",
    "        train_orig = dataset_folder + '/train_orig.txt'\n",
    "\n",
    "        output_file = dataset_folder + '/train_weda_pct_tfidf'+str(tfidf_func)+'.txt' #### TOGGLE EDA/WEDA\n",
    "\n",
    "        gen_standard_aug_weda(train_orig, output_file, tfidf_func = tfidf_func) #### TOGGLE EDA/WEDA\n",
    "\n",
    "        #generate the vocab dictionary\n",
    "        #word2vec_pickle = dataset_folder + '/word2vec.p'\n",
    "        #gen_vocab_dicts(dataset_folder, word2vec_pickle, huge_word2vec)"
   ]
  },
  {
   "cell_type": "code",
   "execution_count": null,
   "id": "08fc406c",
   "metadata": {},
   "outputs": [],
   "source": []
  }
 ],
 "metadata": {
  "kernelspec": {
   "display_name": "AM205",
   "language": "python",
   "name": "am205"
  },
  "language_info": {
   "codemirror_mode": {
    "name": "ipython",
    "version": 3
   },
   "file_extension": ".py",
   "mimetype": "text/x-python",
   "name": "python",
   "nbconvert_exporter": "python",
   "pygments_lexer": "ipython3",
   "version": "3.9.7"
  }
 },
 "nbformat": 4,
 "nbformat_minor": 5
}
